{
 "cells": [
  {
   "cell_type": "code",
   "execution_count": 7,
   "metadata": {},
   "outputs": [],
   "source": [
    "## regular expression\n",
    "import re\n",
    "import numpy as np\n",
    "import pandas as pd"
   ]
  },
  {
   "cell_type": "code",
   "execution_count": 8,
   "metadata": {},
   "outputs": [],
   "source": [
    "string1 = \"555-1239Moe Szyslak(636) 555-0113Burns, C. Montgomery555 -6542Rev. Timothy Lovejoy555 8904Ned Flanders636-555-3226Simpson, Homer5553642Dr. Julius Hibbert\""
   ]
  },
  {
   "cell_type": "code",
   "execution_count": 9,
   "metadata": {},
   "outputs": [
    {
     "data": {
      "text/plain": [
       "'555-1239Moe Szyslak(636) 555-0113Burns, C. Montgomery555 -6542Rev. Timothy Lovejoy555 8904Ned Flanders636-555-3226Simpson, Homer5553642Dr. Julius Hibbert'"
      ]
     },
     "execution_count": 9,
     "metadata": {},
     "output_type": "execute_result"
    }
   ],
   "source": [
    "string1"
   ]
  },
  {
   "cell_type": "markdown",
   "metadata": {},
   "source": [
    "### Q1. Extract the names of each individual from the unformatted text string and store them in a vector of some sort. When complete, your vector should contain the following entries:\n",
    "##### Ans. Imported the re library of python. \n",
    "##### Solution pattern is [A-Z,\\s]+[A-Z. \\s]+[A-Z]\n",
    "##### Broke down the above pattern and explained as below: Alongwith the above pattern ignore case is used so that need not to repeat the matching pattern in small characters and pattern will be easily understood. (In option 2 i have used the long pattern and then ignore case is not required) \n",
    "##### 1.  [A-Z,\\s] -It will find the the strings from A to Z, find the comma, and find the whitespaces for the first block.\n",
    "##### 2. [A-Z. \\s] -  It will find the strings from A to Z and then will find the dot, and find the whitespaces for the second block.\n",
    "##### 3. [A-Z] - Find the strings from A to Z for the last block."
   ]
  },
  {
   "cell_type": "code",
   "execution_count": 10,
   "metadata": {},
   "outputs": [],
   "source": [
    "# Option 1 Create the pattern to search the required string\n",
    "pattern = r'[A-Z,\\s]+[A-Z. \\s]+[A-Z]'"
   ]
  },
  {
   "cell_type": "code",
   "execution_count": 11,
   "metadata": {},
   "outputs": [
    {
     "name": "stdout",
     "output_type": "stream",
     "text": [
      "['Moe Szyslak', 'Burns, C. Montgomery', 'Rev. Timothy Lovejoy', 'Ned Flanders', 'Simpson, Homer', 'Dr. Julius Hibbert'] ['Moe Szyslak', 'Burns, C. Montgomery', 'Rev. Timothy Lovejoy', 'Ned Flanders', 'Simpson, Homer', 'Dr. Julius Hibbert']\n"
     ]
    }
   ],
   "source": [
    "# search the above defined pattern and ignoring the case of the letter. As pattern is only defined for capital letters\n",
    "# We can compile the pattern and then use findall option to get the output\n",
    "# Or we can direclty use findall option. Below are both the solution\n",
    "\n",
    "compPattern = re.compile(pattern, flags=re.IGNORECASE)\n",
    "names1 = compPattern.findall(string1)\n",
    "names = re.findall(pattern,string1,flags=re.IGNORECASE)\n",
    "print(names, names1)"
   ]
  },
  {
   "cell_type": "markdown",
   "metadata": {},
   "source": [
    "### Q2. Using your new vector containing only the names of the six individuals, complete the following tasks:\n",
    "### a. Use your regex skills to rearrange the vector so that all elements conform to the standard “firstname\n",
    "### lastname”, preserving any titles (e.g., “Rev.”, “Dr.”, etc) or middle/second names.\n",
    "### b. Construct a logical vector indicating whether a character has a title (i.e., Rev. and Dr.).\n",
    "### c. Construct a logical vector indicating whether a character has a middle/second name.\n",
    "##### Ans. "
   ]
  },
  {
   "cell_type": "markdown",
   "metadata": {},
   "source": [
    "##### Set the patterns for Title, firstname, middlename, lastName pattern\n",
    "##### Title is assumed to be A-Z characters in capital or small letters. Assumption is made that it will be 1 to 3 characters and ending with dot(.)"
   ]
  },
  {
   "cell_type": "code",
   "execution_count": 9,
   "metadata": {},
   "outputs": [],
   "source": [
    "titlePattern = r\"(?:[A-Z][a-z]{1,3}\\.\\s*)?\"\n",
    "firstNamePattern = r\"[A-Z][a-z]+,?\\s+\"\n",
    "middleNamePattern = r\"(?:[A-Z][a-z]{0,0}\\.\\s*)?\"\n",
    "lastNamePattern = r\"[A-Z][a-z]+\""
   ]
  },
  {
   "cell_type": "code",
   "execution_count": 10,
   "metadata": {},
   "outputs": [],
   "source": [
    "#strip is used for removing null values / or we can say removing leading or trailing spaces\n",
    "#filter is to filter the true values\n",
    "# list to convert the value into list and append all the values in newly created list"
   ]
  },
  {
   "cell_type": "code",
   "execution_count": 11,
   "metadata": {},
   "outputs": [],
   "source": [
    "data = []\n",
    "for iname in names:\n",
    "    data.append(iname) # full name \n",
    "    data.append(list(filter(str.strip,re.findall(titlePattern,iname)))) #title\n",
    "    data.append(list(filter(str.strip,re.findall(firstNamePattern,iname)))) #firstname\n",
    "    data.append(list(filter(str.strip,re.findall(middleNamePattern,iname)))) #midddle name\n",
    "    data.append(list(filter(str.strip,re.findall(lastNamePattern,iname)))[-1]) # Last name"
   ]
  },
  {
   "cell_type": "code",
   "execution_count": 12,
   "metadata": {},
   "outputs": [],
   "source": [
    "## Scanning through each name in loop \n",
    "## Checking and printing wheter title exist and also appending the values in new list\n",
    "## Printing the values of names, title, first name , middle name and last name for verification too. "
   ]
  },
  {
   "cell_type": "code",
   "execution_count": 13,
   "metadata": {},
   "outputs": [
    {
     "name": "stdout",
     "output_type": "stream",
     "text": [
      "Moe Szyslak  has no title \n",
      "Middle name :  []\n",
      "Last name :  Szyslak\n",
      "Burns, C. Montgomery  has no title \n",
      "Middle name :  ['C. ']\n",
      "Last name :  Montgomery\n",
      "Rev. Timothy Lovejoy  has title  Rev. \n",
      "Middle name :  []\n",
      "Last name :  Lovejoy\n",
      "Ned Flanders  has no title \n",
      "Middle name :  []\n",
      "Last name :  Flanders\n",
      "Simpson, Homer  has no title \n",
      "Middle name :  []\n",
      "Last name :  Homer\n",
      "Dr. Julius Hibbert  has title  Dr. \n",
      "Middle name :  []\n",
      "Last name :  Hibbert\n"
     ]
    }
   ],
   "source": [
    "j=1\n",
    "datalist= []\n",
    "for indx in range(len(names)):\n",
    "    if data[j]:\n",
    "        print(data[j-1],\" has title \", *data[j])   \n",
    "    else:\n",
    "        print(data[j-1],\" has no title \")\n",
    "    print(\"Middle name : \", data [j+2])\n",
    "    print(\"Last name : \", data [j+3])\n",
    "    datalist.append([data[j-1],\"\".join(data[j]),''.join(data [j+1]),\"\".join(data [j+2]),\"\".join(data [j+3])])\n",
    "    j=j+5"
   ]
  },
  {
   "cell_type": "code",
   "execution_count": 14,
   "metadata": {},
   "outputs": [],
   "source": [
    "# converting the datalist into pandas dataframe with required five columns\n",
    "# datafame is used so that we can view the data in the columnar fashion and it will be easy to interprete the results. \n",
    "df=pd.DataFrame(datalist, columns = ['Name' , 'Title','Firstname', 'MiddleName' , 'LastName']) "
   ]
  },
  {
   "cell_type": "markdown",
   "metadata": {},
   "source": [
    "##### Condition checked for part A and part b questions and it returns true / false \n",
    "##### if we put the below condition as df[(df.Title.str.len() !=0)] , it will return the data and will be easy to verify"
   ]
  },
  {
   "cell_type": "code",
   "execution_count": 15,
   "metadata": {},
   "outputs": [
    {
     "data": {
      "text/html": [
       "<div>\n",
       "<style scoped>\n",
       "    .dataframe tbody tr th:only-of-type {\n",
       "        vertical-align: middle;\n",
       "    }\n",
       "\n",
       "    .dataframe tbody tr th {\n",
       "        vertical-align: top;\n",
       "    }\n",
       "\n",
       "    .dataframe thead th {\n",
       "        text-align: right;\n",
       "    }\n",
       "</style>\n",
       "<table border=\"1\" class=\"dataframe\">\n",
       "  <thead>\n",
       "    <tr style=\"text-align: right;\">\n",
       "      <th></th>\n",
       "      <th>Name</th>\n",
       "      <th>Title</th>\n",
       "      <th>Firstname</th>\n",
       "      <th>MiddleName</th>\n",
       "      <th>LastName</th>\n",
       "    </tr>\n",
       "  </thead>\n",
       "  <tbody>\n",
       "    <tr>\n",
       "      <th>2</th>\n",
       "      <td>Rev. Timothy Lovejoy</td>\n",
       "      <td>Rev.</td>\n",
       "      <td>Timothy</td>\n",
       "      <td></td>\n",
       "      <td>Lovejoy</td>\n",
       "    </tr>\n",
       "    <tr>\n",
       "      <th>5</th>\n",
       "      <td>Dr. Julius Hibbert</td>\n",
       "      <td>Dr.</td>\n",
       "      <td>Julius</td>\n",
       "      <td></td>\n",
       "      <td>Hibbert</td>\n",
       "    </tr>\n",
       "  </tbody>\n",
       "</table>\n",
       "</div>"
      ],
      "text/plain": [
       "                   Name  Title Firstname MiddleName LastName\n",
       "2  Rev. Timothy Lovejoy  Rev.   Timothy              Lovejoy\n",
       "5    Dr. Julius Hibbert   Dr.    Julius              Hibbert"
      ]
     },
     "execution_count": 15,
     "metadata": {},
     "output_type": "execute_result"
    }
   ],
   "source": [
    "df[(df.Title.str.len() !=0)]"
   ]
  },
  {
   "cell_type": "code",
   "execution_count": 16,
   "metadata": {},
   "outputs": [
    {
     "data": {
      "text/plain": [
       "0    False\n",
       "1    False\n",
       "2     True\n",
       "3    False\n",
       "4    False\n",
       "5     True\n",
       "Name: Title, dtype: bool"
      ]
     },
     "execution_count": 16,
     "metadata": {},
     "output_type": "execute_result"
    }
   ],
   "source": [
    "## verifying the values of Title\n",
    "df.Title.str.len() !=0"
   ]
  },
  {
   "cell_type": "code",
   "execution_count": 17,
   "metadata": {},
   "outputs": [
    {
     "data": {
      "text/plain": [
       "0    False\n",
       "1     True\n",
       "2    False\n",
       "3    False\n",
       "4    False\n",
       "5    False\n",
       "Name: MiddleName, dtype: bool"
      ]
     },
     "execution_count": 17,
     "metadata": {},
     "output_type": "execute_result"
    }
   ],
   "source": [
    "#Verifying the values of Middle name\n",
    "df.MiddleName.str.len()!=0"
   ]
  },
  {
   "cell_type": "code",
   "execution_count": 18,
   "metadata": {},
   "outputs": [
    {
     "data": {
      "text/plain": [
       "0    True\n",
       "1    True\n",
       "2    True\n",
       "3    True\n",
       "4    True\n",
       "5    True\n",
       "Name: LastName, dtype: bool"
      ]
     },
     "execution_count": 18,
     "metadata": {},
     "output_type": "execute_result"
    }
   ],
   "source": [
    "# Verifying the values of Last name\n",
    "df.LastName.str.len()!=0"
   ]
  },
  {
   "cell_type": "markdown",
   "metadata": {},
   "source": [
    "### Q3.  Consider the HTML string . We would like to extract the first HTML tag. To do so we write the regular expression “<.+>”. Explain why this fails and correct the ### expression.\n",
    "##### Ans dot(.) stands for Any character (except newline character). And + stands for same type of character occuring one or more time. So, .+ means any character existing one or more time. And, <.+> means any character (one or more occurance) between < and >. This way it will give whole stirng as output as it matches to the given criteria. \n",
    "##### To correctly find the HTML tag from the string, we need to give condition as <[A-Za-z0-9-]+?> or ^<[A-Za-z]+?>\n",
    "##### Both the above pattern is able to find the required output"
   ]
  },
  {
   "cell_type": "code",
   "execution_count": 12,
   "metadata": {},
   "outputs": [
    {
     "data": {
      "text/plain": [
       "['<title>+++BREAKING NEWS+++<title>']"
      ]
     },
     "execution_count": 12,
     "metadata": {},
     "output_type": "execute_result"
    }
   ],
   "source": [
    "# '.' and + will bring the whole string as return. And will not provide the correct results. \n",
    "stringHtml = '<title>+++BREAKING NEWS+++<title>'\n",
    "re.findall('<.+>', stringHtml)"
   ]
  },
  {
   "cell_type": "code",
   "execution_count": 13,
   "metadata": {},
   "outputs": [
    {
     "data": {
      "text/plain": [
       "['<title>']"
      ]
     },
     "execution_count": 13,
     "metadata": {},
     "output_type": "execute_result"
    }
   ],
   "source": [
    "# approach 1\n",
    "re.findall('^<[A-Za-z]+?>', stringHtml)"
   ]
  },
  {
   "cell_type": "code",
   "execution_count": 14,
   "metadata": {},
   "outputs": [
    {
     "data": {
      "text/plain": [
       "['<title>']"
      ]
     },
     "execution_count": 14,
     "metadata": {},
     "output_type": "execute_result"
    }
   ],
   "source": [
    "## approach 2 and 3\n",
    "re.match('^<[A-Za-z0-9-]+?>', stringHtml).group()\n",
    "## or use findall\n",
    "re.findall('^<[A-Za-z0-9-]+?>', stringHtml)"
   ]
  },
  {
   "cell_type": "markdown",
   "metadata": {},
   "source": [
    "### Q4. Consider the string “(5-3)^2=5^2-2*5*3+3^2” conforms to the binomial theorem. We would like to extract the formula in the string. To do so we write the regular expression “[^0-9=+*()]+”. Explain why this fails and correct the expression.\n",
    "##### Ans. Here ^ sign works as not operator as it is used inside [ ]. So, it will match character not inside brackets. To explain more, with the given pattern it is looking for the string which should not start with any number, =, brackets etc. So, it matches only the characters which are not given in the not string.\n",
    "##### Solution pattern is ([^A-Za-z]|\\\\^)+\n",
    "##### This pattern looks for string starting with ( and there should not be any alphabets from A-Z in capital or small letter. Above pattern gives us the whole formula and then we replace using translate of string  5 to a and 3 to b. It prints the formula in terms of a and b"
   ]
  },
  {
   "cell_type": "code",
   "execution_count": 26,
   "metadata": {},
   "outputs": [
    {
     "data": {
      "text/plain": [
       "['-', '^', '^', '-', '^']"
      ]
     },
     "execution_count": 26,
     "metadata": {},
     "output_type": "execute_result"
    }
   ],
   "source": [
    "# Carrot ^ sign excludes all the values given inside brackets in the pattern and gives only the remaining characters.\n",
    "# In our case it is - and ^. Let us suppose we include - inside [], then it will not come in results\n",
    "givenFormula = '(5-3)^2=5^2-2*5*3+3^2'\n",
    "re.findall('[^0-9=+*()]+', givenFormula)"
   ]
  },
  {
   "cell_type": "code",
   "execution_count": 27,
   "metadata": {},
   "outputs": [
    {
     "name": "stdout",
     "output_type": "stream",
     "text": [
      "['^', '^', '^']\n",
      "['-', '-']\n"
     ]
    }
   ],
   "source": [
    "# Confirming by putting the values inside bracket. it is behaving as explained above (^ not operator inside [ ])\n",
    "# excluding - or ^ from output, Need to suppress the meaning of - sign by using \\\n",
    "print(re.findall('[^0-9=+*()\\-]+', givenFormula))\n",
    "print(re.findall('[^0-9=+*()\\^]+', givenFormula))"
   ]
  },
  {
   "cell_type": "code",
   "execution_count": 28,
   "metadata": {},
   "outputs": [
    {
     "name": "stdout",
     "output_type": "stream",
     "text": [
      "(5-3)^2=5^2-2*5*3+3^2\n",
      "(a-b)^2=a^2-2*a*b+b^2\n"
     ]
    }
   ],
   "source": [
    "print(re.match('([^A-Za-z]|\\\\^)+', givenFormula).group())\n",
    "print(re.match('([^A-Za-z]|\\\\^)+', givenFormula).group().translate(str.maketrans({\"5\":\"a\", \"3\":\"b\"})))"
   ]
  },
  {
   "cell_type": "code",
   "execution_count": null,
   "metadata": {},
   "outputs": [],
   "source": []
  }
 ],
 "metadata": {
  "kernelspec": {
   "display_name": "Python 3",
   "language": "python",
   "name": "python3"
  },
  "language_info": {
   "codemirror_mode": {
    "name": "ipython",
    "version": 3
   },
   "file_extension": ".py",
   "mimetype": "text/x-python",
   "name": "python",
   "nbconvert_exporter": "python",
   "pygments_lexer": "ipython3",
   "version": "3.7.3"
  }
 },
 "nbformat": 4,
 "nbformat_minor": 2
}
